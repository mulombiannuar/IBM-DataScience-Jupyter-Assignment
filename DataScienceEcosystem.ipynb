{
 "cells": [
  {
   "cell_type": "markdown",
   "id": "2e95f233-660f-4e11-9b70-b14bb48452cb",
   "metadata": {},
   "source": [
    "# Data Science Tools and Ecosystem"
   ]
  },
  {
   "cell_type": "markdown",
   "id": "51885ee9-251d-4309-9ea0-ffe21bd44645",
   "metadata": {},
   "source": [
    "In this notebook, Data Science Tools and Ecosystem are summarized:"
   ]
  },
  {
   "cell_type": "markdown",
   "id": "7fbbe285-9531-4146-a16b-96673c5af4a0",
   "metadata": {},
   "source": [
    "Here are some of the Data Science languages:\n",
    "1. Python\n",
    "2. R\n",
    "3. SQL\n",
    "4. Java\n",
    "5. Scala\n",
    "6. Julia"
   ]
  },
  {
   "cell_type": "markdown",
   "id": "be25f40f-c163-4136-a27d-d8679a80b744",
   "metadata": {},
   "source": [
    "Here are some commonly used data science libraries across different programming languages:\n",
    "1. NumPy\n",
    "2. Pandas\n",
    "3. Matplotlib\n",
    "4. Scikit-learn\n",
    "5. TensorFlow\n",
    "6. Weka\n",
    "7. DataFrames.jl\n",
    "8. Spark MLlib"
   ]
  },
  {
   "cell_type": "markdown",
   "id": "12fbae78-cf33-44e5-b936-77e7a3588bc7",
   "metadata": {},
   "source": [
    "| Tool         | Description                                                                                   |\n",
    "|--------------|-----------------------------------------------------------------------------------------------|\n",
    "| NumPy        | Fundamental package for numerical computing in Python, providing support for large arrays and matrices. |\n",
    "| Pandas       | Library for data manipulation and analysis, offering data structures like DataFrames and Series. |\n",
    "| Matplotlib   | Plotting library for creating static, animated, and interactive visualizations in Python.     |\n"
   ]
  },
  {
   "cell_type": "markdown",
   "id": "72056336-567d-435a-92a1-7634f7303ab7",
   "metadata": {},
   "source": [
    "### Basic Arithmetic Expressions examples in Python"
   ]
  },
  {
   "cell_type": "code",
   "execution_count": 3,
   "id": "a035fc67-1227-4222-afae-911100660d1b",
   "metadata": {},
   "outputs": [
    {
     "data": {
      "text/plain": [
       "7"
      ]
     },
     "execution_count": 3,
     "metadata": {},
     "output_type": "execute_result"
    }
   ],
   "source": [
    "# this is an example of an arithmetic operation to multiply two numbers and add another number\n",
    "(2 * 3) + 1\n"
   ]
  },
  {
   "cell_type": "code",
   "execution_count": 2,
   "id": "f9dbafd9-f1c2-4f4b-8385-d892302f8b71",
   "metadata": {},
   "outputs": [
    {
     "data": {
      "text/plain": [
       "3.0"
      ]
     },
     "execution_count": 2,
     "metadata": {},
     "output_type": "execute_result"
    }
   ],
   "source": [
    "# this will convert 180minutes to hours by diving by 60\n",
    "180/60"
   ]
  },
  {
   "cell_type": "markdown",
   "id": "fa930202-3d0d-41ff-bd8a-5b8dde5a79ae",
   "metadata": {},
   "source": [
    "### Objectives\n",
    "- To list popular languages for Data Science\n",
    "- To list popular libraries for Data Science\n",
    "- To list examples of Data Science tools\n",
    "- How you can carry out arithmetic operations\n"
   ]
  },
  {
   "cell_type": "markdown",
   "id": "56921445-075a-463e-ae28-daaacf5ebdb1",
   "metadata": {},
   "source": [
    "## Author's name\n",
    "Anuary Mulombi"
   ]
  }
 ],
 "metadata": {
  "kernelspec": {
   "display_name": "Python 3 (ipykernel)",
   "language": "python",
   "name": "python3"
  },
  "language_info": {
   "codemirror_mode": {
    "name": "ipython",
    "version": 3
   },
   "file_extension": ".py",
   "mimetype": "text/x-python",
   "name": "python",
   "nbconvert_exporter": "python",
   "pygments_lexer": "ipython3",
   "version": "3.10.12"
  }
 },
 "nbformat": 4,
 "nbformat_minor": 5
}
